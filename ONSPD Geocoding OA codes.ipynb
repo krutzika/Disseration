{
 "cells": [
  {
   "cell_type": "code",
   "execution_count": 5,
   "id": "32ff6b61",
   "metadata": {},
   "outputs": [
    {
     "name": "stderr",
     "output_type": "stream",
     "text": [
      "/var/folders/j_/yy54qztd2qv_yhxvrrgcbd1c0000gn/T/ipykernel_53124/1101712059.py:19: DtypeWarning: Columns (18,31) have mixed types. Specify dtype option on import or set low_memory=False.\n",
      "  data = pd.read_csv(file_path)\n",
      "/var/folders/j_/yy54qztd2qv_yhxvrrgcbd1c0000gn/T/ipykernel_53124/1101712059.py:19: DtypeWarning: Columns (18,31) have mixed types. Specify dtype option on import or set low_memory=False.\n",
      "  data = pd.read_csv(file_path)\n",
      "/var/folders/j_/yy54qztd2qv_yhxvrrgcbd1c0000gn/T/ipykernel_53124/1101712059.py:19: DtypeWarning: Columns (18,31) have mixed types. Specify dtype option on import or set low_memory=False.\n",
      "  data = pd.read_csv(file_path)\n",
      "/var/folders/j_/yy54qztd2qv_yhxvrrgcbd1c0000gn/T/ipykernel_53124/1101712059.py:19: DtypeWarning: Columns (18,31,45) have mixed types. Specify dtype option on import or set low_memory=False.\n",
      "  data = pd.read_csv(file_path)\n",
      "/var/folders/j_/yy54qztd2qv_yhxvrrgcbd1c0000gn/T/ipykernel_53124/1101712059.py:19: DtypeWarning: Columns (18,31) have mixed types. Specify dtype option on import or set low_memory=False.\n",
      "  data = pd.read_csv(file_path)\n",
      "/var/folders/j_/yy54qztd2qv_yhxvrrgcbd1c0000gn/T/ipykernel_53124/1101712059.py:19: DtypeWarning: Columns (18,31) have mixed types. Specify dtype option on import or set low_memory=False.\n",
      "  data = pd.read_csv(file_path)\n",
      "/var/folders/j_/yy54qztd2qv_yhxvrrgcbd1c0000gn/T/ipykernel_53124/1101712059.py:19: DtypeWarning: Columns (45) have mixed types. Specify dtype option on import or set low_memory=False.\n",
      "  data = pd.read_csv(file_path)\n",
      "/var/folders/j_/yy54qztd2qv_yhxvrrgcbd1c0000gn/T/ipykernel_53124/1101712059.py:19: DtypeWarning: Columns (18,31) have mixed types. Specify dtype option on import or set low_memory=False.\n",
      "  data = pd.read_csv(file_path)\n",
      "/var/folders/j_/yy54qztd2qv_yhxvrrgcbd1c0000gn/T/ipykernel_53124/1101712059.py:19: DtypeWarning: Columns (18,31,40,45,50,51,52) have mixed types. Specify dtype option on import or set low_memory=False.\n",
      "  data = pd.read_csv(file_path)\n",
      "/var/folders/j_/yy54qztd2qv_yhxvrrgcbd1c0000gn/T/ipykernel_53124/1101712059.py:19: DtypeWarning: Columns (18,31) have mixed types. Specify dtype option on import or set low_memory=False.\n",
      "  data = pd.read_csv(file_path)\n",
      "/var/folders/j_/yy54qztd2qv_yhxvrrgcbd1c0000gn/T/ipykernel_53124/1101712059.py:19: DtypeWarning: Columns (18,31) have mixed types. Specify dtype option on import or set low_memory=False.\n",
      "  data = pd.read_csv(file_path)\n",
      "/var/folders/j_/yy54qztd2qv_yhxvrrgcbd1c0000gn/T/ipykernel_53124/1101712059.py:19: DtypeWarning: Columns (18,31) have mixed types. Specify dtype option on import or set low_memory=False.\n",
      "  data = pd.read_csv(file_path)\n",
      "/var/folders/j_/yy54qztd2qv_yhxvrrgcbd1c0000gn/T/ipykernel_53124/1101712059.py:19: DtypeWarning: Columns (45) have mixed types. Specify dtype option on import or set low_memory=False.\n",
      "  data = pd.read_csv(file_path)\n",
      "/var/folders/j_/yy54qztd2qv_yhxvrrgcbd1c0000gn/T/ipykernel_53124/1101712059.py:19: DtypeWarning: Columns (18,31) have mixed types. Specify dtype option on import or set low_memory=False.\n",
      "  data = pd.read_csv(file_path)\n",
      "/var/folders/j_/yy54qztd2qv_yhxvrrgcbd1c0000gn/T/ipykernel_53124/1101712059.py:19: DtypeWarning: Columns (18,31) have mixed types. Specify dtype option on import or set low_memory=False.\n",
      "  data = pd.read_csv(file_path)\n",
      "/var/folders/j_/yy54qztd2qv_yhxvrrgcbd1c0000gn/T/ipykernel_53124/1101712059.py:19: DtypeWarning: Columns (18,31) have mixed types. Specify dtype option on import or set low_memory=False.\n",
      "  data = pd.read_csv(file_path)\n",
      "/var/folders/j_/yy54qztd2qv_yhxvrrgcbd1c0000gn/T/ipykernel_53124/1101712059.py:19: DtypeWarning: Columns (18,31) have mixed types. Specify dtype option on import or set low_memory=False.\n",
      "  data = pd.read_csv(file_path)\n",
      "/var/folders/j_/yy54qztd2qv_yhxvrrgcbd1c0000gn/T/ipykernel_53124/1101712059.py:19: DtypeWarning: Columns (18,31) have mixed types. Specify dtype option on import or set low_memory=False.\n",
      "  data = pd.read_csv(file_path)\n",
      "/var/folders/j_/yy54qztd2qv_yhxvrrgcbd1c0000gn/T/ipykernel_53124/1101712059.py:19: DtypeWarning: Columns (18,31) have mixed types. Specify dtype option on import or set low_memory=False.\n",
      "  data = pd.read_csv(file_path)\n",
      "/var/folders/j_/yy54qztd2qv_yhxvrrgcbd1c0000gn/T/ipykernel_53124/1101712059.py:19: DtypeWarning: Columns (18) have mixed types. Specify dtype option on import or set low_memory=False.\n",
      "  data = pd.read_csv(file_path)\n",
      "/var/folders/j_/yy54qztd2qv_yhxvrrgcbd1c0000gn/T/ipykernel_53124/1101712059.py:19: DtypeWarning: Columns (18,31) have mixed types. Specify dtype option on import or set low_memory=False.\n",
      "  data = pd.read_csv(file_path)\n"
     ]
    }
   ],
   "source": [
    "import pandas as pd\n",
    "import glob\n",
    "\n",
    "# Define the columns you want to select\n",
    "selected_columns = ['oa11', 'lat', 'long']\n",
    "\n",
    "# Create an empty DataFrame to store the selected data\n",
    "selected_data = []\n",
    "\n",
    "# Specify the file pattern for the files you want to read\n",
    "file_pattern = 'ONSPD/*.csv'\n",
    "\n",
    "# Get the list of file paths matching the pattern\n",
    "file_paths = glob.glob(file_pattern)\n",
    "\n",
    "# Iterate over the files and select the desired columns\n",
    "for file_path in file_paths:\n",
    "    # Read the file into a DataFrame\n",
    "    data = pd.read_csv(file_path)\n",
    "    \n",
    "    # Select the desired columns\n",
    "    selected_data.append(data[selected_columns])\n",
    "# Concatenate the selected data into a single DataFrame\n",
    "combined_data = pd.concat(selected_data, ignore_index=True)\n",
    "# Write the selected data to a single file\n",
    "output_file = 'ONSPD/output_file.csv'\n",
    "combined_data.to_csv(output_file, index=False)\n"
   ]
  },
  {
   "cell_type": "code",
   "execution_count": 16,
   "id": "170b400d",
   "metadata": {},
   "outputs": [],
   "source": [
    "import pandas as pd\n",
    "\n",
    "# Read the first file with 3 columns\n",
    "df1 = pd.read_csv('merged_file.csv')\n",
    "\n",
    "# Read the second file with 1 column\n",
    "df2 = pd.read_csv('Census data with number of users .csv')\n",
    "\n",
    "# Merge the two dataframes based on the common column\n",
    "merged_df = pd.merge(df2, df1, left_on='Output Areas Code', right_on='Output Areas Code', how='left')\n",
    "\n",
    "# # Update the values in the respective columns of File 2\n",
    "# merged_df['Latitude'] = merged_df['lat']\n",
    "# merged_df['Longitude'] = merged_df['long']\n",
    "\n",
    "# # Drop the additional columns from File 1\n",
    "# merged_df.drop(['lat', 'Column2_in_File1', 'Column3_in_File1'], axis=1, inplace=True)\n",
    "\n",
    "# Save the updated dataframe to a new file or overwrite the existing File 2\n",
    "merged_df.to_csv('censors with coordinates.csv', index=False)"
   ]
  },
  {
   "cell_type": "code",
   "execution_count": null,
   "id": "2b01f303",
   "metadata": {},
   "outputs": [],
   "source": []
  }
 ],
 "metadata": {
  "kernelspec": {
   "display_name": "newenv",
   "language": "python",
   "name": "newenv"
  },
  "language_info": {
   "codemirror_mode": {
    "name": "ipython",
    "version": 3
   },
   "file_extension": ".py",
   "mimetype": "text/x-python",
   "name": "python",
   "nbconvert_exporter": "python",
   "pygments_lexer": "ipython3",
   "version": "3.11.3"
  }
 },
 "nbformat": 4,
 "nbformat_minor": 5
}
